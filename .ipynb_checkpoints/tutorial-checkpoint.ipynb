{
 "cells": [
  {
   "cell_type": "markdown",
   "metadata": {},
   "source": [
    "# Pytac & ATIP Combined Tutorial\n",
    "\n",
    "First some required imports:"
   ]
  },
  {
   "cell_type": "code",
   "execution_count": 1,
   "metadata": {},
   "outputs": [],
   "source": [
    "import pytac\n",
    "import atip\n",
    "import cothread\n",
    "from matplotlib import pyplot as plt"
   ]
  },
  {
   "cell_type": "markdown",
   "metadata": {},
   "source": [
    "## The Lattice and Elements in Pytac\n",
    "\n",
    "Just like in PyAT, the central object in Pytac is the `lattice`, it holds all of the `elements` in the accelerator in order.\n",
    "\n",
    "All the data about the lattice and its elements is stored in CSV files inside the Pytac repository. We use `load_csv.load` to load the data and initialise a `lattice` object.\n",
    "\n",
    "Let's load the \"DIAD\" ring mode lattice with Pytac!\n",
    "\n",
    "The \"ring mode\" is the name under which the configuration of the lattice is saved, there is one set of CSV files for each ring mode. So when we load the lattice, we specify the ring mode we want to load:"
   ]
  },
  {
   "cell_type": "code",
   "execution_count": 2,
   "metadata": {},
   "outputs": [],
   "source": [
    "lattice = pytac.load_csv.load(\"DIAD\", symmetry=24)"
   ]
  },
  {
   "cell_type": "markdown",
   "metadata": {},
   "source": [
    "The lattice contains all the elements and can be indexed like a list, lets take a look at the first 5 elements:"
   ]
  },
  {
   "cell_type": "code",
   "execution_count": 3,
   "metadata": {},
   "outputs": [
    {
     "name": "stdout",
     "output_type": "stream",
     "text": [
      "<Element index 1, length 0.0 m, cell 1, families aperture, ap>\n",
      "<Element index 2, length 4.38 m, cell 1, families d1d2, drift>\n",
      "<Element index 3, length 0.0 m, cell 1, families bpm>\n",
      "<Element index 4, length 1.2883 m, cell 1, families kd1, drift>\n",
      "<Element index 5, length 0.4064 m, cell 1, families quadrupole, q1d>\n"
     ]
    }
   ],
   "source": [
    "for elem in lattice[:5]:\n",
    "    print(elem)"
   ]
  },
  {
   "cell_type": "markdown",
   "metadata": {},
   "source": [
    "Each element has certain identifying information:\n",
    " - `index` (its position in the lattice)\n",
    " - `s` (its s position - distance from the start of the lattice)\n",
    " - `cell` (which cell of the lattice it's in)\n",
    " - `families` (which families it belongs to, families are used to easily perform the same operation on a group of elements at the same time)\n",
    " - `name`\n",
    " - `type_` (types aren't strictly defined in Pytac, so users can use them to group elements however they want)\n",
    " - `length`"
   ]
  },
  {
   "cell_type": "code",
   "execution_count": 4,
   "metadata": {},
   "outputs": [
    {
     "name": "stdout",
     "output_type": "stream",
     "text": [
      "index: 8\n",
      "s position: 6.2265\n",
      "cell: 1\n",
      "families: {'squad', 'hstr', 'vstr', 's1d', 'sextupole'}\n",
      "name: None\n",
      "type: Sextupole\n",
      "length: 0.29\n"
     ]
    }
   ],
   "source": [
    "print(f\"index: {lattice[7].index}\")\n",
    "print(f\"s position: {lattice[7].s}\")\n",
    "print(f\"cell: {lattice[5].cell}\")\n",
    "print(f\"families: {lattice[7].families}\")\n",
    "print(f\"name: {lattice[7].name}\")\n",
    "print(f\"type: {lattice[7].type_}\")\n",
    "print(f\"length: {lattice[7].length}\")"
   ]
  },
  {
   "cell_type": "markdown",
   "metadata": {},
   "source": [
    "Each element also has `fields` dictating what you can do with it:"
   ]
  },
  {
   "cell_type": "code",
   "execution_count": 5,
   "metadata": {},
   "outputs": [
    {
     "name": "stdout",
     "output_type": "stream",
     "text": [
      "a BPMs fields:\n",
      "{'live': dict_keys(['x', 'y', 'enabled', 'x_fofb_disabled', 'x_sofb_disabled', 'y_fofb_disabled', 'y_sofb_disabled'])}\n",
      "a Quadrupoles fields:\n",
      "{'live': dict_keys(['b1'])}\n"
     ]
    }
   ],
   "source": [
    "print(f\"a BPMs fields:\\n{lattice[2].get_fields()}\")\n",
    "print(f\"a Quadrupoles fields:\\n{lattice[4].get_fields()}\")"
   ]
  },
  {
   "cell_type": "markdown",
   "metadata": {},
   "source": [
    "These are the field names used when getting and setting data:"
   ]
  },
  {
   "cell_type": "code",
   "execution_count": 6,
   "metadata": {},
   "outputs": [
    {
     "name": "stdout",
     "output_type": "stream",
     "text": [
      "71.42185974121094\n"
     ]
    }
   ],
   "source": [
    "print(lattice[4].get_value(\"b1\"))"
   ]
  },
  {
   "cell_type": "markdown",
   "metadata": {},
   "source": [
    "Similar to elements, the `lattice` object itself also has some `fields` of its own:"
   ]
  },
  {
   "cell_type": "code",
   "execution_count": 7,
   "metadata": {},
   "outputs": [
    {
     "name": "stdout",
     "output_type": "stream",
     "text": [
      "{'live': dict_keys(['beam_current', 'emittance_x', 'emittance_y', 'tune_x', 'tune_y', 's_position', 'energy'])}\n",
      "301.47105749794804\n"
     ]
    }
   ],
   "source": [
    "print(lattice.get_fields())\n",
    "print(lattice.get_value(\"beam_current\"))"
   ]
  },
  {
   "cell_type": "markdown",
   "metadata": {},
   "source": [
    "This model of fields on the elements and lattice means that the user doesn't have to worry about dealing with PV names, but we can still see them if we want:"
   ]
  },
  {
   "cell_type": "code",
   "execution_count": 8,
   "metadata": {},
   "outputs": [
    {
     "name": "stdout",
     "output_type": "stream",
     "text": [
      "SR01C-DI-EBPM-01:SA:X\n",
      "SR23C-DI-TMBF-01:X:TUNE:TUNE\n"
     ]
    }
   ],
   "source": [
    "print(lattice[2].get_pv_name(\"x\", pytac.RB))\n",
    "print(lattice.get_pv_name(\"tune_x\", pytac.RB))"
   ]
  },
  {
   "cell_type": "markdown",
   "metadata": {},
   "source": [
    "## Fundamental Operations in Pytac\n",
    "\n",
    "First, let's look at getting and setting in a bit more detail.\n",
    "\n",
    "The interface for getting data is:\n",
    "\n",
    "`get_value(field, handle=pytac.RB, units=pytac.DEFAULT, data_source=pytac.DEFAULT, throw=True)`\n",
    "\n",
    "where:\n",
    " - `field` is the name of the field you want to get the value of\n",
    " - `handle` is either `pytac.RB` or `pytac.SP` depending on if you want to get the value of the readback PV or the setpoint PV\n",
    " - `units` is either `pytac.ENG` or `pytac.PHYS` depending on if you want the value to be returned in engineering or physics units\n",
    " - `data_source` is either `pytac.Live` or `pytac.SIM` depending on if you want to get your data from the live model or the simulator\n",
    " - `throw` is a boolean indicating if an error should be raised if the PV cannot be accessed\n",
    "\n",
    "The interface for setting data is:\n",
    "\n",
    "`set_value(field, value, units=pytac.DEFAULT, data_source=pytac.DEFAULT, throw=True)`\n",
    "\n",
    "where:\n",
    " - `field` is the name of the field you want to set the value of\n",
    " - `value` is the value that you want to set to the field\n",
    " - `units` is either `pytac.ENG` or `pytac.PHYS` depending on if the value you are setting is in engineering or physics units\n",
    " - `data_source` is either `pytac.Live` or `pytac.SIM` depending on if you want to set your data to the live model or the simulator\n",
    " - `throw` is a boolean indicating if an error should be raised if the PV cannot be accessed\n",
    "\n",
    "The default values for the `units` and `data_source` arguments are `pytac.ENG` and `pytac.LIVE` respectively, but the defaults can also be configured on the lattice:"
   ]
  },
  {
   "cell_type": "code",
   "execution_count": 9,
   "metadata": {},
   "outputs": [
    {
     "name": "stdout",
     "output_type": "stream",
     "text": [
      "71.42185974121094\n",
      "-0.705280342834579\n"
     ]
    }
   ],
   "source": [
    "print(lattice[4].get_value(\"b1\"))\n",
    "lattice.set_default_units(pytac.PHYS)\n",
    "print(lattice[4].get_value(\"b1\"))\n",
    "# We haven't actually got a simulator data source loaded yet\n",
    "lattice.set_default_data_source(pytac.SIM)\n",
    "try:\n",
    "    lattice[4].get_value(\"b1\")\n",
    "except pytac.exceptions.DataSourceException:\n",
    "    pass\n",
    "# So let's set it back for now, we'll look at data sources more in a bit\n",
    "lattice.set_default_data_source(pytac.LIVE)"
   ]
  },
  {
   "cell_type": "markdown",
   "metadata": {},
   "source": [
    "### Units\n",
    "\n",
    "Pytac handles the conversion between different unit types automatically whenever it's required. This is done using the `UnitConv` class, each field has its own UnitConv object that performs the conversions for it based on the stored conversion transformation.\n",
    "\n",
    "These conversions can be between different unit systems:"
   ]
  },
  {
   "cell_type": "code",
   "execution_count": 10,
   "metadata": {},
   "outputs": [
    {
     "name": "stdout",
     "output_type": "stream",
     "text": [
      "A\n",
      "m^-2\n"
     ]
    }
   ],
   "source": [
    "print(lattice[4].get_unitconv(\"b1\").eng_units)\n",
    "print(lattice[4].get_unitconv(\"b1\").phys_units)"
   ]
  },
  {
   "cell_type": "markdown",
   "metadata": {},
   "source": [
    "Or just different magnitudes:"
   ]
  },
  {
   "cell_type": "code",
   "execution_count": 11,
   "metadata": {},
   "outputs": [
    {
     "name": "stdout",
     "output_type": "stream",
     "text": [
      "m\n",
      "mm\n"
     ]
    }
   ],
   "source": [
    "print(lattice[2].get_unitconv(\"x\").eng_units)\n",
    "print(lattice[2].get_unitconv(\"x\").phys_units)"
   ]
  },
  {
   "cell_type": "markdown",
   "metadata": {},
   "source": [
    "# Handles\n",
    "\n",
    "\n",
    "Fields that you can set data to will have two PVs associated with them; a setpoint PV, which is the target value that the hardware is trying to reach, and a readback PV, which is the actual value from the hardware right now.\n",
    "\n",
    "Handles are how Pytac knows whether to get the value of the setpoint or readback PV.\n",
    "\n",
    "In a real-world accelerator, these will usually have slightly different values:"
   ]
  },
  {
   "cell_type": "code",
   "execution_count": 12,
   "metadata": {},
   "outputs": [
    {
     "name": "stdout",
     "output_type": "stream",
     "text": [
      "-0.705280342834579\n",
      "-0.7052395948755767\n"
     ]
    }
   ],
   "source": [
    "print(lattice[4].get_value(\"b1\", handle=pytac.RB))\n",
    "print(lattice[4].get_value(\"b1\", handle=pytac.SP))"
   ]
  },
  {
   "cell_type": "markdown",
   "metadata": {},
   "source": [
    "Some fields cannot be set to and so will only have a readback PV, e.g. `x` on a BPM:"
   ]
  },
  {
   "cell_type": "code",
   "execution_count": 13,
   "metadata": {},
   "outputs": [
    {
     "name": "stdout",
     "output_type": "stream",
     "text": [
      "-4.999999999999999e-09\n",
      "Device SR01C-DI-EBPM-01 has no setpoint PV.\n"
     ]
    }
   ],
   "source": [
    "print(lattice[2].get_value(\"x\", handle=pytac.RB))\n",
    "try:\n",
    "    lattice[2].get_value(\"x\", handle=pytac.SP)\n",
    "except pytac.exceptions.HandleException as e:\n",
    "    print(e)"
   ]
  },
  {
   "cell_type": "markdown",
   "metadata": {},
   "source": [
    "# Data Sources\n",
    "\n",
    "Pytac is most commonly used for getting and setting data to/from the real accelerator using the \"live\" data source. However, Pytac can also be set up with an additional simulated data source.\n",
    "\n",
    "We use ATIP to load a PyAT simulation, based on our `.mat` AT lattice file, onto our Pytac lattice as a \"simulation\" data source.\n",
    "\n",
    "So let's do that:"
   ]
  },
  {
   "cell_type": "code",
   "execution_count": 27,
   "metadata": {},
   "outputs": [
    {
     "name": "stdout",
     "output_type": "stream",
     "text": [
      "cav: 3000000000.0 None\n",
      "2145\n",
      "cav: 3000000000.0 None\n"
     ]
    },
    {
     "ename": "AtError",
     "evalue": "Unstable ring [ 0.        -0.j  0.10092505-0.j -0.10092505+0.j  0.        -0.j\n  0.16361057-0.j -0.16361057+0.j]",
     "output_type": "error",
     "traceback": [
      "\u001b[0;31m---------------------------------------------------------------------------\u001b[0m",
      "\u001b[0;31mAtError\u001b[0m                                   Traceback (most recent call last)",
      "Cell \u001b[0;32mIn[27], line 12\u001b[0m\n\u001b[1;32m      9\u001b[0m _, beamdata, twiss \u001b[38;5;241m=\u001b[39m lat\u001b[38;5;241m.\u001b[39mlinopt6(refpts\u001b[38;5;241m=\u001b[39mrefpts, get_chrom\u001b[38;5;241m=\u001b[39m\u001b[38;5;28;01mTrue\u001b[39;00m, orbit\u001b[38;5;241m=\u001b[39morbit0, keep_lattice\u001b[38;5;241m=\u001b[39m\u001b[38;5;28;01mTrue\u001b[39;00m)\n\u001b[1;32m     11\u001b[0m lat\u001b[38;5;241m.\u001b[39mlinopt6()\n\u001b[0;32m---> 12\u001b[0m lattice \u001b[38;5;241m=\u001b[39m \u001b[43matip\u001b[49m\u001b[38;5;241;43m.\u001b[39;49m\u001b[43mload_sim\u001b[49m\u001b[38;5;241;43m.\u001b[39;49m\u001b[43mload_from_filepath\u001b[49m\u001b[43m(\u001b[49m\u001b[43mlattice\u001b[49m\u001b[43m,\u001b[49m\u001b[43m \u001b[49m\u001b[38;5;124;43m\"\u001b[39;49m\u001b[38;5;124;43matip/rings/DIAD.mat\u001b[39;49m\u001b[38;5;124;43m\"\u001b[39;49m\u001b[43m)\u001b[49m\n\u001b[1;32m     13\u001b[0m \u001b[38;5;28;01mraise\u001b[39;00m \u001b[38;5;167;01mException\u001b[39;00m\n",
      "File \u001b[0;32m~/git/atip/atip/load_sim.py:36\u001b[0m, in \u001b[0;36mload_from_filepath\u001b[0;34m(pytac_lattice, at_lattice_filepath, callback, disable_emittance)\u001b[0m\n\u001b[1;32m     17\u001b[0m \u001b[38;5;250m\u001b[39m\u001b[38;5;124;03m\"\"\"Load simulator data sources onto the lattice and its elements.\u001b[39;00m\n\u001b[1;32m     18\u001b[0m \n\u001b[1;32m     19\u001b[0m \u001b[38;5;124;03mArgs:\u001b[39;00m\n\u001b[0;32m   (...)\u001b[0m\n\u001b[1;32m     29\u001b[0m \u001b[38;5;124;03m    simulator data source fully loaded onto it.\u001b[39;00m\n\u001b[1;32m     30\u001b[0m \u001b[38;5;124;03m\"\"\"\u001b[39;00m\n\u001b[1;32m     31\u001b[0m at_lattice \u001b[38;5;241m=\u001b[39m at\u001b[38;5;241m.\u001b[39mload\u001b[38;5;241m.\u001b[39mload_mat(\n\u001b[1;32m     32\u001b[0m     at_lattice_filepath,\n\u001b[1;32m     33\u001b[0m     name\u001b[38;5;241m=\u001b[39mpytac_lattice\u001b[38;5;241m.\u001b[39mname,\n\u001b[1;32m     34\u001b[0m     energy\u001b[38;5;241m=\u001b[39mpytac_lattice\u001b[38;5;241m.\u001b[39mget_value(\u001b[38;5;124m\"\u001b[39m\u001b[38;5;124menergy\u001b[39m\u001b[38;5;124m\"\u001b[39m),\n\u001b[1;32m     35\u001b[0m )\n\u001b[0;32m---> 36\u001b[0m \u001b[38;5;28;01mreturn\u001b[39;00m \u001b[43mload\u001b[49m\u001b[43m(\u001b[49m\u001b[43mpytac_lattice\u001b[49m\u001b[43m,\u001b[49m\u001b[43m \u001b[49m\u001b[43mat_lattice\u001b[49m\u001b[43m,\u001b[49m\u001b[43m \u001b[49m\u001b[43mcallback\u001b[49m\u001b[43m,\u001b[49m\u001b[43m \u001b[49m\u001b[43mdisable_emittance\u001b[49m\u001b[43m)\u001b[49m\n",
      "File \u001b[0;32m~/git/atip/atip/load_sim.py:60\u001b[0m, in \u001b[0;36mload\u001b[0;34m(pytac_lattice, at_lattice, callback, disable_emittance)\u001b[0m\n\u001b[1;32m     55\u001b[0m     \u001b[38;5;28;01mraise\u001b[39;00m \u001b[38;5;167;01mValueError\u001b[39;00m(\n\u001b[1;32m     56\u001b[0m         \u001b[38;5;124m\"\u001b[39m\u001b[38;5;124mIncompatible AT and Pytac lattices, length mismatch \u001b[39m\u001b[38;5;124m\"\u001b[39m\n\u001b[1;32m     57\u001b[0m         \u001b[38;5;124mf\u001b[39m\u001b[38;5;124m\"\u001b[39m\u001b[38;5;124m(AT:\u001b[39m\u001b[38;5;132;01m{\u001b[39;00m\u001b[38;5;28mlen\u001b[39m(at_lattice)\u001b[38;5;132;01m}\u001b[39;00m\u001b[38;5;124m Pytac:\u001b[39m\u001b[38;5;132;01m{\u001b[39;00m\u001b[38;5;28mlen\u001b[39m(pytac_lattice)\u001b[38;5;132;01m}\u001b[39;00m\u001b[38;5;124m).\u001b[39m\u001b[38;5;124m\"\u001b[39m\n\u001b[1;32m     58\u001b[0m     )\n\u001b[1;32m     59\u001b[0m \u001b[38;5;66;03m# Initialise an instance of the ATSimulator Object.\u001b[39;00m\n\u001b[0;32m---> 60\u001b[0m atsim \u001b[38;5;241m=\u001b[39m \u001b[43mATSimulator\u001b[49m\u001b[43m(\u001b[49m\u001b[43mat_lattice\u001b[49m\u001b[43m,\u001b[49m\u001b[43m \u001b[49m\u001b[43mcallback\u001b[49m\u001b[43m,\u001b[49m\u001b[43m \u001b[49m\u001b[43mdisable_emittance\u001b[49m\u001b[43m)\u001b[49m\n\u001b[1;32m     61\u001b[0m \u001b[38;5;66;03m# Set the simulator data source on the Pytac lattice.\u001b[39;00m\n\u001b[1;32m     62\u001b[0m pytac_lattice\u001b[38;5;241m.\u001b[39mset_data_source(ATLatticeDataSource(atsim), pytac\u001b[38;5;241m.\u001b[39mSIM)\n",
      "File \u001b[0;32m~/git/atip/atip/simulator.py:127\u001b[0m, in \u001b[0;36mATSimulator.__init__\u001b[0;34m(self, at_lattice, callback, disable_emittance)\u001b[0m\n\u001b[1;32m    124\u001b[0m \u001b[38;5;28mself\u001b[39m\u001b[38;5;241m.\u001b[39m_at_lat\u001b[38;5;241m.\u001b[39mradiation_on()\n\u001b[1;32m    126\u001b[0m \u001b[38;5;66;03m# Initial phys data calculation.\u001b[39;00m\n\u001b[0;32m--> 127\u001b[0m \u001b[38;5;28mself\u001b[39m\u001b[38;5;241m.\u001b[39m_lattice_data \u001b[38;5;241m=\u001b[39m \u001b[43mcalculate_optics\u001b[49m\u001b[43m(\u001b[49m\n\u001b[1;32m    128\u001b[0m \u001b[43m    \u001b[49m\u001b[38;5;28;43mself\u001b[39;49m\u001b[38;5;241;43m.\u001b[39;49m\u001b[43m_at_lat\u001b[49m\u001b[43m,\u001b[49m\u001b[43m \u001b[49m\u001b[38;5;28;43mself\u001b[39;49m\u001b[38;5;241;43m.\u001b[39;49m\u001b[43m_rp\u001b[49m\u001b[43m,\u001b[49m\u001b[43m \u001b[49m\u001b[38;5;28;43mself\u001b[39;49m\u001b[38;5;241;43m.\u001b[39;49m\u001b[43m_disable_emittance\u001b[49m\n\u001b[1;32m    129\u001b[0m \u001b[43m\u001b[49m\u001b[43m)\u001b[49m\n\u001b[1;32m    131\u001b[0m \u001b[38;5;66;03m# Threading stuff initialisation.\u001b[39;00m\n\u001b[1;32m    132\u001b[0m \u001b[38;5;28mself\u001b[39m\u001b[38;5;241m.\u001b[39m_queue \u001b[38;5;241m=\u001b[39m cothread\u001b[38;5;241m.\u001b[39mEventQueue()\n",
      "File \u001b[0;32m~/git/atip/atip/simulator.py:48\u001b[0m, in \u001b[0;36mcalculate_optics\u001b[0;34m(at_lattice, refpts, disable_emittance)\u001b[0m\n\u001b[1;32m     45\u001b[0m orbit0, _ \u001b[38;5;241m=\u001b[39m at_lattice\u001b[38;5;241m.\u001b[39mfind_orbit6()\n\u001b[1;32m     46\u001b[0m logging\u001b[38;5;241m.\u001b[39mdebug(\u001b[38;5;124m\"\u001b[39m\u001b[38;5;124mCompleted orbit calculation.\u001b[39m\u001b[38;5;124m\"\u001b[39m)\n\u001b[0;32m---> 48\u001b[0m _, beamdata, twiss \u001b[38;5;241m=\u001b[39m \u001b[43mat_lattice\u001b[49m\u001b[38;5;241;43m.\u001b[39;49m\u001b[43mlinopt6\u001b[49m\u001b[43m(\u001b[49m\n\u001b[1;32m     49\u001b[0m \u001b[43m    \u001b[49m\u001b[43mrefpts\u001b[49m\u001b[38;5;241;43m=\u001b[39;49m\u001b[43mrefpts\u001b[49m\u001b[43m,\u001b[49m\u001b[43m \u001b[49m\u001b[43mget_chrom\u001b[49m\u001b[38;5;241;43m=\u001b[39;49m\u001b[38;5;28;43;01mTrue\u001b[39;49;00m\u001b[43m,\u001b[49m\u001b[43m \u001b[49m\u001b[43morbit\u001b[49m\u001b[38;5;241;43m=\u001b[39;49m\u001b[43morbit0\u001b[49m\u001b[43m,\u001b[49m\u001b[43m \u001b[49m\u001b[43mkeep_lattice\u001b[49m\u001b[38;5;241;43m=\u001b[39;49m\u001b[38;5;28;43;01mTrue\u001b[39;49;00m\n\u001b[1;32m     50\u001b[0m \u001b[43m\u001b[49m\u001b[43m)\u001b[49m\n\u001b[1;32m     51\u001b[0m logging\u001b[38;5;241m.\u001b[39mdebug(\u001b[38;5;124m\"\u001b[39m\u001b[38;5;124mCompleted linear optics calculation.\u001b[39m\u001b[38;5;124m\"\u001b[39m)\n\u001b[1;32m     53\u001b[0m \u001b[38;5;28;01mif\u001b[39;00m \u001b[38;5;129;01mnot\u001b[39;00m disable_emittance:\n",
      "File \u001b[0;32m~/git/at/pyat/at/lattice/cavity_access.py:48\u001b[0m, in \u001b[0;36mfrequency_control.<locals>.wrapper\u001b[0;34m(ring, *args, **kwargs)\u001b[0m\n\u001b[1;32m     45\u001b[0m         frequency \u001b[38;5;241m=\u001b[39m ring\u001b[38;5;241m.\u001b[39mget_revolution_frequency(\u001b[38;5;241m*\u001b[39m\u001b[38;5;241m*\u001b[39mmomargs) \\\n\u001b[1;32m     46\u001b[0m                     \u001b[38;5;241m*\u001b[39m ring\u001b[38;5;241m.\u001b[39mharmonic_number\n\u001b[1;32m     47\u001b[0m         ring \u001b[38;5;241m=\u001b[39m set_cavity(ring, Frequency\u001b[38;5;241m=\u001b[39mfrequency, copy\u001b[38;5;241m=\u001b[39m\u001b[38;5;28;01mTrue\u001b[39;00m)\n\u001b[0;32m---> 48\u001b[0m \u001b[38;5;28;01mreturn\u001b[39;00m \u001b[43mfunc\u001b[49m\u001b[43m(\u001b[49m\u001b[43mring\u001b[49m\u001b[43m,\u001b[49m\u001b[43m \u001b[49m\u001b[38;5;241;43m*\u001b[39;49m\u001b[43margs\u001b[49m\u001b[43m,\u001b[49m\u001b[43m \u001b[49m\u001b[38;5;241;43m*\u001b[39;49m\u001b[38;5;241;43m*\u001b[39;49m\u001b[43mkwargs\u001b[49m\u001b[43m)\u001b[49m\n",
      "File \u001b[0;32m~/git/at/pyat/at/physics/linear.py:956\u001b[0m, in \u001b[0;36mlinopt6\u001b[0;34m(ring, *args, **kwargs)\u001b[0m\n\u001b[1;32m    834\u001b[0m \u001b[38;5;129m@frequency_control\u001b[39m\n\u001b[1;32m    835\u001b[0m \u001b[38;5;28;01mdef\u001b[39;00m \u001b[38;5;21mlinopt6\u001b[39m(ring: Lattice, \u001b[38;5;241m*\u001b[39margs, \u001b[38;5;241m*\u001b[39m\u001b[38;5;241m*\u001b[39mkwargs):\n\u001b[1;32m    836\u001b[0m \u001b[38;5;250m    \u001b[39m\u001b[38;5;124mr\u001b[39m\u001b[38;5;124;03m\"\"\"Linear analysis of a fully coupled lattice using normal modes\u001b[39;00m\n\u001b[1;32m    837\u001b[0m \n\u001b[1;32m    838\u001b[0m \u001b[38;5;124;03m    For circular machines, :py:func:`linopt6` analyses\u001b[39;00m\n\u001b[0;32m   (...)\u001b[0m\n\u001b[1;32m    954\u001b[0m \u001b[38;5;124;03m        .. [11] Brian W. Montague Report LEP Note 165, CERN, 1979\u001b[39;00m\n\u001b[1;32m    955\u001b[0m \u001b[38;5;124;03m    \"\"\"\u001b[39;00m\n\u001b[0;32m--> 956\u001b[0m     \u001b[38;5;28;01mreturn\u001b[39;00m \u001b[43m_linopt\u001b[49m\u001b[43m(\u001b[49m\u001b[43mring\u001b[49m\u001b[43m,\u001b[49m\u001b[43m \u001b[49m\u001b[43m_analyze6\u001b[49m\u001b[43m,\u001b[49m\u001b[43m \u001b[49m\u001b[38;5;241;43m*\u001b[39;49m\u001b[43margs\u001b[49m\u001b[43m,\u001b[49m\u001b[43m \u001b[49m\u001b[38;5;241;43m*\u001b[39;49m\u001b[38;5;241;43m*\u001b[39;49m\u001b[43mkwargs\u001b[49m\u001b[43m)\u001b[49m\n",
      "File \u001b[0;32m~/git/at/pyat/at/physics/linear.py:520\u001b[0m, in \u001b[0;36m_linopt\u001b[0;34m(ring, analyze, refpts, dp, dct, df, orbit, twiss_in, get_chrom, get_w, keep_lattice, mname, add0, adds, cavpts, **kwargs)\u001b[0m\n\u001b[1;32m    517\u001b[0m     o0dn \u001b[38;5;241m=\u001b[39m orbit \u001b[38;5;241m-\u001b[39m dorbit \u001b[38;5;241m*\u001b[39m \u001b[38;5;241m0.5\u001b[39m \u001b[38;5;241m*\u001b[39m dp_step\n\u001b[1;32m    519\u001b[0m \u001b[38;5;66;03m# Perform analysis\u001b[39;00m\n\u001b[0;32m--> 520\u001b[0m vps, dtype, el0, els, wtype \u001b[38;5;241m=\u001b[39m \u001b[43manalyze\u001b[49m\u001b[43m(\u001b[49m\u001b[43mmxx\u001b[49m\u001b[43m,\u001b[49m\u001b[43m \u001b[49m\u001b[43mms\u001b[49m\u001b[43m)\u001b[49m\n\u001b[1;32m    521\u001b[0m tunes \u001b[38;5;241m=\u001b[39m np\u001b[38;5;241m.\u001b[39mmod(np\u001b[38;5;241m.\u001b[39mangle(vps) \u001b[38;5;241m/\u001b[39m \u001b[38;5;241m2.0\u001b[39m \u001b[38;5;241m/\u001b[39m pi, \u001b[38;5;241m1.0\u001b[39m)\n\u001b[1;32m    523\u001b[0m \u001b[38;5;28;01mif\u001b[39;00m (get_chrom \u001b[38;5;129;01mor\u001b[39;00m get_w) \u001b[38;5;129;01mand\u001b[39;00m mt\u001b[38;5;241m.\u001b[39mshape \u001b[38;5;241m==\u001b[39m (\u001b[38;5;241m6\u001b[39m, \u001b[38;5;241m6\u001b[39m):\n",
      "File \u001b[0;32m~/git/at/pyat/at/physics/linear.py:295\u001b[0m, in \u001b[0;36m_analyze6\u001b[0;34m(mt, ms)\u001b[0m\n\u001b[1;32m    293\u001b[0m     dtype \u001b[38;5;241m=\u001b[39m _DATAX_DTYPE\n\u001b[1;32m    294\u001b[0m     wtype \u001b[38;5;241m=\u001b[39m _WX_DTYPE\n\u001b[0;32m--> 295\u001b[0m a0, vps \u001b[38;5;241m=\u001b[39m \u001b[43ma_matrix\u001b[49m\u001b[43m(\u001b[49m\u001b[43mmt\u001b[49m\u001b[43m)\u001b[49m\n\u001b[1;32m    297\u001b[0m astd \u001b[38;5;241m=\u001b[39m standardize(a0, slices)\n\u001b[1;32m    298\u001b[0m phi0, r0, _ \u001b[38;5;241m=\u001b[39m r_matrices(astd)\n",
      "File \u001b[0;32m~/git/at/pyat/at/physics/amat.py:95\u001b[0m, in \u001b[0;36ma_matrix\u001b[0;34m(M)\u001b[0m\n\u001b[1;32m     93\u001b[0m n \u001b[38;5;241m=\u001b[39m \u001b[38;5;241m-\u001b[39m\u001b[38;5;241m0.5\u001b[39mj \u001b[38;5;241m*\u001b[39m numpy\u001b[38;5;241m.\u001b[39msum(vp\u001b[38;5;241m.\u001b[39mT \u001b[38;5;241m*\u001b[39m vv, axis\u001b[38;5;241m=\u001b[39m\u001b[38;5;241m0\u001b[39m)\n\u001b[1;32m     94\u001b[0m \u001b[38;5;28;01mif\u001b[39;00m \u001b[38;5;28many\u001b[39m(\u001b[38;5;28mabs\u001b[39m(n) \u001b[38;5;241m<\u001b[39m \u001b[38;5;241m1.0E-12\u001b[39m):\n\u001b[0;32m---> 95\u001b[0m     \u001b[38;5;28;01mraise\u001b[39;00m AtError(\u001b[38;5;124mf\u001b[39m\u001b[38;5;124m\"\u001b[39m\u001b[38;5;124mUnstable ring \u001b[39m\u001b[38;5;132;01m{\u001b[39;00mn\u001b[38;5;132;01m}\u001b[39;00m\u001b[38;5;124m\"\u001b[39m)\n\u001b[1;32m     96\u001b[0m \u001b[38;5;66;03m# Move positive before negatives\u001b[39;00m\n\u001b[1;32m     97\u001b[0m order \u001b[38;5;241m=\u001b[39m rbase \u001b[38;5;241m+\u001b[39m (n \u001b[38;5;241m<\u001b[39m \u001b[38;5;241m0\u001b[39m)\n",
      "\u001b[0;31mAtError\u001b[0m: Unstable ring [ 0.        -0.j  0.10092505-0.j -0.10092505+0.j  0.        -0.j\n  0.16361057-0.j -0.16361057+0.j]"
     ]
    }
   ],
   "source": [
    "import at\n",
    "import numpy\n",
    "refpts = numpy.ones(len(lat) + 1, dtype=bool)\n",
    "lat = atip.utils.load_at_lattice(\"DIAD\")\n",
    "lat.radiation_on()\n",
    "twiss = atip.simulator.calculate_optics(lat, refpts, True)\n",
    "print(len(twiss.twiss))\n",
    "orbit0, _ = lat.find_orbit6()\n",
    "_, beamdata, twiss = lat.linopt6(refpts=refpts, get_chrom=True, orbit=orbit0, keep_lattice=True)\n",
    "\n",
    "lat.linopt6()\n",
    "lattice = atip.load_sim.load_from_filepath(lattice, \"atip/rings/DIAD.mat\")\n",
    "raise Exception"
   ]
  },
  {
   "cell_type": "markdown",
   "metadata": {},
   "source": [
    "Let's check the lattice and element fields again:"
   ]
  },
  {
   "cell_type": "code",
   "execution_count": null,
   "metadata": {},
   "outputs": [],
   "source": [
    "print(lattice.get_fields())\n",
    "print(lattice[4].get_fields())"
   ]
  },
  {
   "cell_type": "code",
   "execution_count": null,
   "metadata": {},
   "outputs": [],
   "source": [
    "# Getting the values of all elements in a family\n",
    "lattice.get_element_values(\"Q1D\", \"b1\")"
   ]
  },
  {
   "cell_type": "markdown",
   "metadata": {},
   "source": [
    "The name `\"live\"` refers to the data source, in this case, the live machine; Pytac can also be set up with additional data sources for simulation, so let's do that. We use atip to load a PyAT simulation, based on our `.mat` AT lattice file, onto our Pytac lattice as a `\"simulation\"` data source:"
   ]
  },
  {
   "cell_type": "markdown",
   "metadata": {},
   "source": [
    "## Using the Simulated Data Source\n",
    "\n",
    "Now that we've loaded the simulator onto the lattice, let's see how to use it. First let's get the `\"x\"` values for all the `BPMs` in the lattice for the live machine:"
   ]
  },
  {
   "cell_type": "code",
   "execution_count": null,
   "metadata": {},
   "outputs": [],
   "source": [
    "bpms = lattice.get_elements('BPM')\n",
    "x_values = []\n",
    "for bpm in bpms:\n",
    "    x_values.append(bpm.get_value(\"x\", data_source=pytac.LIVE))\n",
    "fig = plt.figure()\n",
    "ax = fig.add_axes([0, 0, 1, 1])\n",
    "ax.plot(range(len(bpms)), x_values)\n",
    "plt.show()"
   ]
  },
  {
   "cell_type": "markdown",
   "metadata": {},
   "source": [
    "Now let's set the data source to the simulator and try that:"
   ]
  },
  {
   "cell_type": "code",
   "execution_count": null,
   "metadata": {},
   "outputs": [],
   "source": [
    "initial_x_values = []\n",
    "for bpm in bpms:\n",
    "    initial_x_values.append(bpm.get_value(\"x\", data_source=pytac.SIM))\n",
    "fig = plt.figure()\n",
    "ax = fig.add_axes([0, 0, 1, 1])\n",
    "ax.plot(range(len(bpms)), initial_x_values)\n",
    "plt.show()"
   ]
  },
  {
   "cell_type": "markdown",
   "metadata": {},
   "source": [
    "Now let's change one of the correctors and see what happens:"
   ]
  },
  {
   "cell_type": "code",
   "execution_count": null,
   "metadata": {},
   "outputs": [],
   "source": [
    "# Display our initial BPM x positions for reference\n",
    "fig = plt.figure()\n",
    "ax1 = fig.add_subplot(2,1,1)\n",
    "ax1.plot(range(len(bpms)), initial_x_values)\n",
    "\n",
    "# Change the x_kick of one of the corrector magnets\n",
    "hcor1 = lattice.get_elements(\"HSTR\")[10]\n",
    "simulator = atip.utils.get_atsim(lattice)\n",
    "hcor1.set_value(\"x_kick\", 0.001, units=pytac.PHYS, data_source=pytac.SIM)\n",
    "simulator.wait_for_calculations()\n",
    "\n",
    "# Measure and plot the BPM x positions after the change\n",
    "new_x_values = []\n",
    "for bpm in bpms:\n",
    "    new_x_values.append(bpm.get_value(\"x\", data_source=pytac.SIM))\n",
    "ax2 = fig.add_subplot(2,1,2)\n",
    "ax2.plot(range(len(bpms)), new_x_values)\n",
    "plt.show()"
   ]
  },
  {
   "cell_type": "markdown",
   "metadata": {},
   "source": [
    "Now let's compare other lattice fields between the live machine and the simulator, e.g. tunes:"
   ]
  },
  {
   "cell_type": "code",
   "execution_count": null,
   "metadata": {},
   "outputs": [],
   "source": [
    "# Reset the corrector that we changed\n",
    "hcor1.set_value(\"x_kick\", 0.0, units=pytac.PHYS, data_source=pytac.SIM)\n",
    "# Measure and print tunes from both data sources\n",
    "print(\"live machine tunes: [{:.5f}, {:.5f}]\".format(lattice.get_value(\"tune_x\", data_source=pytac.LIVE),\n",
    "                                                    lattice.get_value(\"tune_y\", data_source=pytac.LIVE)))\n",
    "print(\"simulator tunes:    [{:.5f}, {:.5f}]\".format(lattice.get_value(\"tune_x\", data_source=pytac.SIM),\n",
    "                                                    lattice.get_value(\"tune_y\", data_source=pytac.SIM)))"
   ]
  },
  {
   "cell_type": "markdown",
   "metadata": {},
   "source": [
    "## End of Demo "
   ]
  },
  {
   "cell_type": "code",
   "execution_count": null,
   "metadata": {
    "scrolled": true
   },
   "outputs": [],
   "source": [
    "# Blank code box to answer questions in if needed"
   ]
  }
 ],
 "metadata": {
  "kernelspec": {
   "display_name": "Python 3 (ipykernel)",
   "language": "python",
   "name": "python3"
  },
  "language_info": {
   "codemirror_mode": {
    "name": "ipython",
    "version": 3
   },
   "file_extension": ".py",
   "mimetype": "text/x-python",
   "name": "python",
   "nbconvert_exporter": "python",
   "pygments_lexer": "ipython3",
   "version": "3.9.2"
  }
 },
 "nbformat": 4,
 "nbformat_minor": 4
}
